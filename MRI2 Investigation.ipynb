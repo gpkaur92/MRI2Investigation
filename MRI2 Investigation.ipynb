{
 "cells": [
  {
   "cell_type": "markdown",
   "metadata": {},
   "source": [
    "**Q1:**\n",
    "\n",
    "**Nuclear Magnetic Resonance:**\n",
    "\n",
    "It is physical property of certain atomic nuclei related to their magnetic characteristics od resonating when placed in magnetic field[1].\n",
    "\n",
    "The following features lead to the NMR phenomenon:\n",
    "\n",
    "1. A spinning charge generates a magnetic field. The resulting spin-magnet has a magnetic moment proportional to the spin.\n",
    "\n",
    "2. In the presence of an external magnetic field, two spin states exist,+1/2 and -1/2. The magnetic moment of the lower energy +1/2 state is aligned with the external field, but htat of the higher energy -1/2 spin state is opposed to the external field.\n",
    "\n",
    "3. The difference in energy between the two spin states is dependent on the external magnetic field strength, and is always very small i.e., the two spin states have the same energy when external field is zero, but diverge as the field increases. At a field equal to B_x a formula for the energy difference is given as: \n",
    "Energy difference=(magneti moment.magnetic field)/I where, I=1/2.\n",
    "\n",
    "4. For spin 1/2 nuclei the energy difference between the spin states at a given magnetic field strength will be proportional to their magnetic moments.\n",
    "\n",
    "5. This same could be done by irradiating an atomic nuclei with radio waves at a specific frequency . When due to application of both the energies nucleus will start to resonate we can employ it for magnetic resonance imaging (MRI), a multidimensional NMR imaging technique, for diagnostic purposes.\n"
   ]
  },
  {
   "cell_type": "markdown",
   "metadata": {},
   "source": [
    "**Q2:**\n",
    "\n",
    "**Relation Between frequency and Magnetic field in NMR:**\n",
    "\n",
    "Frequency(v) = (magnetic moment.magnetic field)/(planck's constant.I)\n",
    "\n",
    "where planck's constant=6.626069.10^-34\n",
    "\n",
    "and I-1/2[2]."
   ]
  },
  {
   "cell_type": "markdown",
   "metadata": {},
   "source": [
    "**Q3:**\n",
    "\n",
    "**Drift in MR Imaging:**\n",
    "\n",
    "In a MRI the over sufficiently long (many minutes) scans, the resonance frequency undergoes a predominantly linear shift, referred to as field “drift”, due to tiny dissipative losses in the superconducting coil. These are specified in the magnet’s data sheets at under 0.1 ppm/hour, compared with ~10−3 ppm/day of frequency synthesizers. Heating of the passive shims by currents in the active ones is another source of an approximately linear drift. Other sources of instability are sequence dependent such as heating of the magnet’s heat shield by fast-switching gradients (5), and physiological, such as respiration, which introduces a periodic component, often on the order of a sequence’s repetition time, TR[7]. \n",
    "\n",
    "All superconducting magnets suffer a drift. In real-world scenarios, this drift has a strong linear component and introduces localization errors in chemical shift imaging protocols, which can become substantial for long acquisition times. Correcting for it is straightforward if the instantaneous resonant frequency can be estimated and smoothed. Interleaved FIDs offer a simple, easily implemented and low SAR solution for doing so; fitting the FID’s phase using weighted least squares provides high accuracy and precision, while keeping the duration of the interleaved FIDs to a minimum.\n",
    "\n",
    "By interspersing the non-diffusion-weighted images throughout the session, the signal decrease can be estimated and compensated for before data analysis; minimizing the detrimental effects on subsequent MRI analyses.\n",
    "\n",
    "A Magnetic Resonance Imaging (MRI) scanner applies magnetic fields to a human or animal in order to generate an image of a specific region of the body. Due to a number of internal and external effects these fields are never completely homogenous. Distortion of the magnetic fields may lead to defective images which could potentially lead to false diagnoses.\n",
    "Typically during the course of an MRI scan there is a level of magnetic drift which reduces the image quality. It is therefore important to estimate and correct for inhomogeneity in the magnetic field. Modern scanners adjust for this through a process called shimming. The shim device in most MRI scanners includes a number of coils that produce small magnetic fields which are superimposed on the main magnetic field. Shimming of the magnetic field is performed once, and typically before the scan sequence begins. However, during a long scanning period, the initial shim prepared by the scanner could be compromised, rendering the final MRI images inaccurate.\n",
    "This innovation estimates and corrects for main magnetic field drift as to improve the accuracy of the shim correction applied at the start of a run. The method ultimately improves the quality of images produced by imaging scanners such as MRI’s.\n",
    "\n",
    "*Benefits:-*\n",
    "• Measure, report and correct for all changes in magnetic field throughout an MRI scan\n",
    "• Improved image quality\n",
    " - Fewer misdiagnoses\n",
    " - Fewer corrupted images\n",
    "• A major advantage is the ability of the double volumetric navigator sequence to measure and adjust shim over selected regions in a ‘slab-by-slab’ or ‘slice-by-slice’ fashion\n",
    "\n",
    "*Applications:-*\n",
    "• The invention can be integrated into any MRI pulse sequence, including functional MRI(fMRI) and diffusion tensor imaging (DTI)\n",
    "• It can be implemented in parallel imaging scans\n",
    "• Higher order shims can be implemented if the hardware of the particular MRI scanner[8]\n"
   ]
  },
  {
   "cell_type": "markdown",
   "metadata": {},
   "source": [
    "**Q4:**\n",
    "\n",
    "**Voxel:**\n",
    "\n",
    "Voxel is a unit of graphics information that defines a point in three-dimensional space. Since,a pixel is apoint in twi dimensional space with its X and Y coordinates, a third Z coordinate is needed. In 3D space, each of the coordinates is defined in the terms of its position,color and density. Voxels are frequently used in the visualization and analysis of medical data[3].\n",
    "\n",
    "**Voxels are preferred over pixes because:**\n",
    "Volume pixels or voxels are used like building blocks to form a larger 3D object.Like stacked bricks,voxels donot contain specific information about thier axis co-ordinates. Rather, they have some information about hteir relative location in relation to nearby voxels and are considered single points in 3D space. They are good for representing regular sample shapes that are not homogenously filled, in contrast to polygons and points, which are explicitly presented by the coordinates of their points(vertices). Polygons more efficiently represent simple 3D shapes by creating the surfaces and using a great deal of homogeneously filled space.\n",
    "\n",
    "Voxels have the ability to contain multiple scalar values (vector data), such as density, opacity, color and volumetric flow rate. Thus, they are used extensively for visualization ans analysis of scientific and medical data from devices like CT scanners and X-ray/Ultrasound machines[4]."
   ]
  },
  {
   "cell_type": "markdown",
   "metadata": {},
   "source": [
    "**Q5:**\n",
    "\n",
    "**Artefact observed in MR Images:**\n",
    "\n",
    "An artifactual subdural fluid collection was a common artifact. When present, this was due to shift of fat signal from subcutaneous tissues onto the brain in patients younger than 10 years old and correlated with the distance between brain and subcutaneous fat of less than the linear value of the chemical shift. When this artifact was present in adults, it was due to shift of the medullary fat signal across the inner table of the skull. The latter also occurred in one child under 10. Apparent location shifts, consistent with the displacement expected from the chemical-shift artifact, were noted in five of five cases of intracranial lipoma. In one of these, the chemical-shift artifact disguised the presence of a large associated vessel. The method of calculating the linear displacement of chemical-shift artifact is reviewed, and the interrelationship of machine parameters and chemical-shift artifact is illustrated. Chemical-shift artifact increases proportionally with field strength and field of view. Increasing the bandwidth to decrease chemical-shift artifact has a resultant penalty in signal to noise but allows a lower time to echo. A lower time to echo can also be accomplished without increasing the bandwidth if asymmetric sampling is used. Awareness of the relationships among chemical-shift artifacts, acquisition parameters, and field strengths can result in a more tailored examination when the chemical-shift artifact is going to be a significant factor. In addition, interpreter error can be avoided by awareness of these relationships when reviewing images from outside institutions[6]."
   ]
  },
  {
   "cell_type": "markdown",
   "metadata": {},
   "source": [
    "**REFERENCES:**\n",
    "\n",
    "1. *\"Nuclear MAgnetic resonance Imaging: With or Without Nuclear?\"*- Gerald M. Pohost, MD. Face, Gabriel A. Elganish,PhD, William T. Evanochko,PhD.\n",
    "\n",
    "2. *\"NMR Spectroscopy\"*- William Ruesch, Michigan State University.\n",
    "\n",
    "3. *\"Voxels on fire\"*- Ye Zhao, Xiaoming Wei, Zhe Fan, Arie Kaufman, Hong Qin - Stony Brook University.\n",
    "\n",
    "4. *\"Skkeletal 3-D CT: advantages of volume rendering over surface rendering\"*- Brain S. Kuszyk, David G. Heath, Donald F. Bliss, E.K.Fishman.\n",
    "\n",
    "5. *\"Voxel and cluster tests, by theory and permutation for a difference between two groups of structural MR images of the brain\"*- Bullmore ET, Suckling, Rabe-HEsketh S., Taylor E., Brammer MJ. Global.\n",
    "\n",
    "6. *\"Intracranial chemical-shift artifacts on MR images of the brain: observations and relation to sampling bandwidth\"* - Smith AS, Weinstein MA, Hurst GC, DeRemer DR, Cole RA, Duchesneau PM.\n",
    "\n",
    "7. *\"Field-Frequency Locked In Vivo Proton MRS on a Whole-Body Spectrometer\"*-Henry P-G, Van De Moortele P-F, Giacomini E, Nauerth A, Bloch G.\n",
    "\n",
    "8. *\"Improving image quality in MRI Scanners by correcting for magnetic distortions\"*-Dr. Revel Iyer,University of Cape Town.\n"
   ]
  }
 ],
 "metadata": {
  "kernelspec": {
   "display_name": "Python 2",
   "language": "python",
   "name": "python2"
  },
  "language_info": {
   "codemirror_mode": {
    "name": "ipython",
    "version": 2
   },
   "file_extension": ".py",
   "mimetype": "text/x-python",
   "name": "python",
   "nbconvert_exporter": "python",
   "pygments_lexer": "ipython2",
   "version": "2.7.13"
  }
 },
 "nbformat": 4,
 "nbformat_minor": 2
}
